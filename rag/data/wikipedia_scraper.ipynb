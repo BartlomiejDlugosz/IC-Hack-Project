{
 "cells": [
  {
   "cell_type": "markdown",
   "metadata": {},
   "source": [
    "# The sole purpose of this notebook is to download as much information from wikipedia about data science as possible.\n",
    "\n",
    "pip install wikipedia-api\n"
   ]
  },
  {
   "cell_type": "code",
   "execution_count": null,
   "metadata": {},
   "outputs": [
    {
     "name": "stdout",
     "output_type": "stream",
     "text": [
      "Requirement already satisfied: wikipedia-api in c:\\users\\326po\\appdata\\local\\programs\\python\\python311\\lib\\site-packages (0.8.1)\n",
      "Requirement already satisfied: requests in c:\\users\\326po\\appdata\\local\\programs\\python\\python311\\lib\\site-packages (from wikipedia-api) (2.32.3)\n",
      "Requirement already satisfied: charset-normalizer<4,>=2 in c:\\users\\326po\\appdata\\local\\programs\\python\\python311\\lib\\site-packages (from requests->wikipedia-api) (3.1.0)\n",
      "Requirement already satisfied: idna<4,>=2.5 in c:\\users\\326po\\appdata\\local\\programs\\python\\python311\\lib\\site-packages (from requests->wikipedia-api) (3.4)\n",
      "Requirement already satisfied: urllib3<3,>=1.21.1 in c:\\users\\326po\\appdata\\local\\programs\\python\\python311\\lib\\site-packages (from requests->wikipedia-api) (2.0.2)\n",
      "Requirement already satisfied: certifi>=2017.4.17 in c:\\users\\326po\\appdata\\local\\programs\\python\\python311\\lib\\site-packages (from requests->wikipedia-api) (2024.12.14)\n",
      "Note: you may need to restart the kernel to use updated packages.\n"
     ]
    }
   ],
   "source": [
    "%pip install wikipedia-api\n",
    "import wikipediaapi\n",
    "\n",
    "wiki_wiki = wikipediaapi.Wikipedia('en', headers={'User-Agent': 'CoolBot/0.0 (https://example.org/coolbot/; coolbot@example.org)'})\n",
    "\n",
    "def get_articles(categories, level=1):\n",
    "    articles = {}\n",
    "\n",
    "    def parse_category(category, level):\n",
    "        if level <= 0:\n",
    "            return\n",
    "        for title, member in category.categorymembers.items():\n",
    "            if member.ns == wikipediaapi.Namespace.MAIN:  # It's an article\n",
    "                articles[title] = member.text\n",
    "            elif member.ns == wikipediaapi.Namespace.CATEGORY:  # It's a subcategory\n",
    "                parse_category(member, level - 1)\n",
    "\n",
    "    for category_name in categories:\n",
    "        category = wiki_wiki.page(\"Category:\" + category_name)\n",
    "        parse_category(category, level)\n",
    "    \n",
    "    return articles\n",
    "\n",
    "# Retrieve all articles under the \"Data Science\" and \"Computer Science\" categories\n",
    "articles = get_articles(categories, level=3)  # Level controls depth\n",
    "\n",
    "# Save to a text file\n",
    "with open(\"wiki_data_science_articles.txt\", \"w\", encoding=\"utf-8\") as f:\n",
    "    for title, text in articles.items():\n",
    "        f.write(f\"Title: {title}\\n{text}\\n\\n\")\n",
    "\n",
    "print(f\"Downloaded {len(articles)} articles.\")\n"
   ]
  }
 ],
 "metadata": {
  "kernelspec": {
   "display_name": "Python 3",
   "language": "python",
   "name": "python3"
  },
  "language_info": {
   "codemirror_mode": {
    "name": "ipython",
    "version": 3
   },
   "file_extension": ".py",
   "mimetype": "text/x-python",
   "name": "python",
   "nbconvert_exporter": "python",
   "pygments_lexer": "ipython3",
   "version": "3.11.0"
  }
 },
 "nbformat": 4,
 "nbformat_minor": 2
}
