{
 "cells": [
  {
   "cell_type": "markdown",
   "metadata": {},
   "source": [
    "# The sole purpose of this notebook is to download as much information from wikipedia about data science as possible.\n",
    "\n",
    "pip install wikipedia-api\n"
   ]
  },
  {
   "cell_type": "code",
   "execution_count": null,
   "metadata": {},
   "outputs": [],
   "source": [
    "import wikipediaapi\n",
    "\n",
    "wiki_wiki = wikipediaapi.Wikipedia('en', headers={'User-Agent': 'CoolBot/0.0 (https://example.org/coolbot/; coolbot@example.org)'})\n",
    "\n",
    "def get_articles(categories, level=5):\n",
    "    articles = {}\n",
    "\n",
    "    def parse_category(category, level):\n",
    "        if level <= 0:\n",
    "            return\n",
    "        for title, member in category.categorymembers.items():\n",
    "            if member.ns == wikipediaapi.Namespace.MAIN:  # It's an article\n",
    "                articles[title] = member.text\n",
    "            elif member.ns == wikipediaapi.Namespace.CATEGORY:  # It's a subcategory\n",
    "                parse_category(member, level - 1)\n",
    "\n",
    "    for category_name in categories:\n",
    "        category = wiki_wiki.page(\"Category:\" + category_name)\n",
    "        parse_category(category, level)\n",
    "    \n",
    "    return articles\n",
    "\n",
    "# Retrieve all articles under the \"Data Science\" and \"Computer Science\" categories\n",
    "categories = [\"Data_science\", \"Computer_science\"]\n",
    "articles = get_articles(categories, level=5)  # Level controls depth\n",
    "\n",
    "# Save to a text file\n",
    "with open(\"wiki_data_science_articles.txt\", \"w\", encoding=\"utf-8\") as f:\n",
    "    for title, text in articles.items():\n",
    "        f.write(f\"Title: {title}\\n{text}\\n\\n\")\n",
    "\n",
    "print(f\"Downloaded {len(articles)} articles.\")\n"
   ]
  }
 ],
 "metadata": {
  "kernelspec": {
   "display_name": "Python 3",
   "language": "python",
   "name": "python3"
  },
  "language_info": {
   "codemirror_mode": {
    "name": "ipython",
    "version": 3
   },
   "file_extension": ".py",
   "mimetype": "text/x-python",
   "name": "python",
   "nbconvert_exporter": "python",
   "pygments_lexer": "ipython3",
   "version": "3.11.0"
  }
 },
 "nbformat": 4,
 "nbformat_minor": 2
}
