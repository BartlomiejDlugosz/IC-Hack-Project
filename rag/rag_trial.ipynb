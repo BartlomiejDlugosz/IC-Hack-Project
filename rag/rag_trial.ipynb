{
 "cells": [
  {
   "cell_type": "markdown",
   "metadata": {},
   "source": [
    "Base model from\n",
    "\n",
    "https://github.com/anchouls/rag-template\n",
    "\n",
    "Run terminal commands\n",
    "\n",
    "\n",
    "\n",
    "pip install -r rag\\rag-template-main\\requirements.txt\n",
    "cd rag\\rag-template-main\n",
    "\n",
    "\n",
    "uvicorn src.app:app --reload\n",
    "\n",
    "\n",
    "ADD OPENAI_KEY to .env"
   ]
  },
  {
   "cell_type": "markdown",
   "metadata": {},
   "source": [
    "YOu can download wheel from:\n",
    "https://pypi.org/project/wheel/#files"
   ]
  },
  {
   "cell_type": "markdown",
   "metadata": {},
   "source": [
    "# Accessing Fast API"
   ]
  },
  {
   "cell_type": "markdown",
   "metadata": {},
   "source": []
  },
  {
   "cell_type": "code",
   "execution_count": 10,
   "metadata": {},
   "outputs": [
    {
     "name": "stdout",
     "output_type": "stream",
     "text": [
      "^C\n"
     ]
    }
   ],
   "source": [
    "!uvicorn src.app:app --reload"
   ]
  },
  {
   "cell_type": "code",
   "execution_count": 3,
   "metadata": {},
   "outputs": [],
   "source": [
    "import os\n",
    "import openai\n",
    "OPENAI_API_KEY = os.getenv(\"OPENAI_KEY\")\n",
    "\n",
    "\n",
    "openai.api_key = OPENAI_API_KEY\n",
    "\n"
   ]
  },
  {
   "cell_type": "code",
   "execution_count": 9,
   "metadata": {},
   "outputs": [
    {
     "data": {
      "text/plain": [
       "'My name is Thomas. How can I assist you today?'"
      ]
     },
     "execution_count": 9,
     "metadata": {},
     "output_type": "execute_result"
    }
   ],
   "source": [
    "#from dotenv import load_dotenv\n",
    "from openai import OpenAI\n",
    "import os\n",
    "\n",
    "# Load environment variables from .env file\n",
    "\n",
    "# Securely load the API key from environment variables\n",
    "client = OpenAI(\n",
    "    api_key=os.getenv(\"OPENAI_KEY\"),  # This is the default and can be omitted\n",
    ")\n",
    "\n",
    "def askGPT(systemPrompt, userPrompt):\n",
    "    try:\n",
    "        response = client.chat.completions.create(\n",
    "            model=\"gpt-4o-mini\",  # Use GPT-4 if available: \"gpt-4\"\n",
    "            messages=[\n",
    "                {\"role\": \"system\", \"content\": systemPrompt},\n",
    "                {\"role\": \"user\", \"content\": userPrompt}\n",
    "            ],\n",
    "            # max_tokens=150,\n",
    "            temperature=0.7  # Controls creativity\n",
    "        )\n",
    "\n",
    "        response = response.choices[0].message.content.strip()\n",
    "\n",
    "        return response\n",
    "\n",
    "    except Exception as e:\n",
    "        print(\"ERROR: \", e)\n",
    "        return None\n",
    "    \n",
    "askGPT(\"asnwer as thomas\", \"What is your name?\")"
   ]
  }
 ],
 "metadata": {
  "kernelspec": {
   "display_name": "Python 3",
   "language": "python",
   "name": "python3"
  },
  "language_info": {
   "codemirror_mode": {
    "name": "ipython",
    "version": 3
   },
   "file_extension": ".py",
   "mimetype": "text/x-python",
   "name": "python",
   "nbconvert_exporter": "python",
   "pygments_lexer": "ipython3",
   "version": "3.13.1"
  }
 },
 "nbformat": 4,
 "nbformat_minor": 2
}
