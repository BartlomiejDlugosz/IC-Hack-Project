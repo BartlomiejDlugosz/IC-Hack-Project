{
 "cells": [
  {
   "cell_type": "markdown",
   "metadata": {},
   "source": [
    "Base model from\n",
    "\n",
    "https://github.com/anchouls/rag-template\n",
    "\n",
    "Run terminal commands\n",
    "\n",
    "\n",
    "\n",
    "pip install -r rag\\rag-template-main\\requirements.txt\n",
    "\n",
    "\n",
    "cd rag\\rag-template-main\n",
    "uvicorn src.app:app --reload\n",
    "\n",
    "\n",
    "ADD OPENAI_KEY to .env"
   ]
  },
  {
   "cell_type": "markdown",
   "metadata": {},
   "source": [
    "YOu can download wheel from:\n",
    "https://pypi.org/project/wheel/#files"
   ]
  },
  {
   "cell_type": "markdown",
   "metadata": {},
   "source": [
    "# Accessing Fast API"
   ]
  },
  {
   "cell_type": "markdown",
   "metadata": {},
   "source": []
  },
  {
   "cell_type": "code",
   "execution_count": 2,
   "metadata": {},
   "outputs": [
    {
     "name": "stdout",
     "output_type": "stream",
     "text": [
      "Database controller relative location at: rag\\src\\llama_index_template.py\n"
     ]
    }
   ],
   "source": [
    "import os\n",
    "import openai\n",
    "OPENAI_API_KEY = os.getenv(\"OPENAI_KEY\")\n",
    "\n",
    "\n",
    "openai.api_key = OPENAI_API_KEY\n",
    "\n",
    "import rag.src.llama_index_template as llama"
   ]
  },
  {
   "cell_type": "markdown",
   "metadata": {},
   "source": [
    "Use one of the two databases"
   ]
  },
  {
   "cell_type": "code",
   "execution_count": 4,
   "metadata": {},
   "outputs": [
    {
     "data": {
      "text/plain": [
       "Response(response='Data science is a multidisciplinary field that uses scientific methods, processes, algorithms, and systems to extract knowledge and insights from structured and unstructured data. It combines techniques from statistics, computer science, and domain expertise to analyze and interpret complex data sets, enabling informed decision-making and predictions.', source_nodes=[NodeWithScore(node=TextNode(id_='58564d07-f7d7-47fc-a662-90571ce0f31e', embedding=None, metadata={'file_path': 'c:\\\\GITHUB\\\\IC HACK\\\\IC-Hack-Project\\\\rag\\\\rag_template_main\\\\wikipedia_cs\\\\data\\\\example.txt.txt', 'file_name': 'example.txt.txt', 'file_type': 'text/plain', 'file_size': 673848, 'creation_date': '2025-02-02', 'last_modified_date': '2025-02-02'}, excluded_embed_metadata_keys=['file_name', 'file_type', 'file_size', 'creation_date', 'last_modified_date', 'last_accessed_date'], excluded_llm_metadata_keys=['file_name', 'file_type', 'file_size', 'creation_date', 'last_modified_date', 'last_accessed_date'], relationships={<NodeRelationship.SOURCE: '1'>: RelatedNodeInfo(node_id='c753368f-6bdf-4310-863d-b45fb30f30a5', node_type='4', metadata={'file_path': 'c:\\\\GITHUB\\\\IC HACK\\\\IC-Hack-Project\\\\rag\\\\rag_template_main\\\\wikipedia_cs\\\\data\\\\example.txt.txt', 'file_name': 'example.txt.txt', 'file_type': 'text/plain', 'file_size': 673848, 'creation_date': '2025-02-02', 'last_modified_date': '2025-02-02'}, hash='11add01adf9f51db2c03e4162ae3239baf772ba2a09cdeca5bb93f4e3d072d29'), <NodeRelationship.PREVIOUS: '2'>: RelatedNodeInfo(node_id='c31b6ed8-ac70-42d7-ba53-2dfe4135bf90', node_type='1', metadata={'file_path': 'c:\\\\GITHUB\\\\IC HACK\\\\IC-Hack-Project\\\\rag\\\\rag_template_main\\\\wikipedia_cs\\\\data\\\\example.txt.txt', 'file_name': 'example.txt.txt', 'file_type': 'text/plain', 'file_size': 673848, 'creation_date': '2025-02-02', 'last_modified_date': '2025-02-02'}, hash='33993e38d7cbce0c6ac10ff35608e9f3f95f60912b90aca318e51147b67ce2a8'), <NodeRelationship.NEXT: '3'>: RelatedNodeInfo(node_id='cbf86edd-8176-405b-9a27-8ff0679816bd', node_type='1', metadata={}, hash='f579b75aff34ea39c0ddc7fd5bf8a21fa795c4662b30dc3c564cf0d954d53f93')}, metadata_template='{key}: {value}', metadata_separator='\\n', text='Groups of people gathered outside the Blair County Courthouse and Manhattan Criminal Court to show their support for Mangione during his December court hearings. The support Mangione has generated has been connected to the public\\'s often negative view of the health insurance industry and what many consider to be unfair claim denial practices that inflict harm. The case has spurred growing calls for health insurance reform. A December 2024 NORC at the University of Chicago poll found that a majority of American adults believe that health insurance company denials for health care coverage and/or profits made by those companies share a moderate amount or a great deal of responsibility for Thompson\\'s death.\\r\\n\\r\\nStreet art, graffiti, and signs in support of Mangione appeared on buildings, streets, highways, and other places. A billboard with the words \"Free Luigi\" was seen in Riverside County, California, and a mural portraying Mangione as the Nintendo character Luigi was seen in Seattle. Images and memes of Mangione depicted as a Roman Catholic saint have circulated online. Items and merchandise in support of Mangione were posted on Etsy, Amazon, and other e-commerce sites before being removed. Some merchandise were reportedly the subject of copyright and DMCA takedown requests from an entity purporting to be UnitedHealth Group Inc. Other social media users linked Mangione\\'s jail commissary account soliciting donations for \"snacks, sodas, an iPad, etc.\" The Independent reported that, during his time in custody in Pennsylvania, Mangione had received over 100 pieces of mail.\\r\\nMangione has been noted for his perceived physical attractiveness, and Kara Alaimo, writing for Time, stated that he has become \"somewhat of an online sex symbol\". After Mangione\\'s Manhattan courtroom appearance on December 23, Maison Margiela trended on Twitter and Threads after social media users misidentified the brand of the burgundy sweater that Mangione was wearing. Users later determined that he was wearing a \"washable Merino crewneck sweater\" from Nordstrom, which social media users nicknamed \\'Mangione Merino\\', quickly selling out. A criminal justice professor, speaking about Mangione\\'s online popularity, told Women\\'s Wear Daily that \"What we see with Mangione is he has quickly become a folk hero and a fashion folk hero.\"\\r\\n\\r\\nPerp walk\\r\\nAfter being transported from Pennsylvania to New York on December 19, Mangione received a highly publicized perp walk, escorted by a large number of heavily armed law enforcement officials and Mayor of New York City Eric Adams. Stanford Law School professor Robert Weisberg said that \"The FBI and NYDA could have transported Mangione discreetly, but they opted for a public show,\" and some legal experts stated that the perp walk was a \"blatant and unnecessary attempt at self-promotion.\" Policy director for the Justice Collaboratory at Yale Law School Jorge Camacho said that, \"In a case like Mangione\\'s, where the suspect has garnered some sympathy and applause from people frustrated with greedy health-care insurance companies, the tactic can backfire\".\\r\\nSome social media users shared memes and compared Mangione\\'s perp walk to the arrest of Jesus, scenes from the Superman movies, and Renaissance paintings. On December 23 during Mangione\\'s New York court hearing where he pled not guilty to the state charges, his defense attorney Karen Friedman Agnifilo said that Mangione might not receive a fair trial due to publicity from law enforcement presentations of him, blaming Mayor of New York City Eric Adams for the \"unnecessary\" and \"utterly political\" perp walk. She added, \"The mayor should know more than anyone about the presumption of innocence,\" suggesting Adams was attempting to distract from the charges he himself is facing.\\r\\n\\r\\nOpinion polls\\r\\nAn Economist/YouGov poll conducted from December 15 to 17 surveying 1,553 U.S. adult citizens found that 43% of American citizens had a \"somewhat unfavorable\" or \"very unfavorable\" view of Mangione, while 21% had a \"somewhat favorable\" or \"very favorable\" view of him. 37% were unsure. Mangione received the most support from citizens aged 18–29, who viewed him favorably by a 39%–29% margin, and very liberal citizens, who viewed him favorably by a 47%–31% margin. Mangione was viewed least favorably by citizens aged 65 and older (65%–5% unfavorable) and very conservative citizens (62%–8% unfavorable).', mimetype='text/plain', start_char_idx=664796, end_char_idx=669212, metadata_seperator='\\n', text_template='{metadata_str}\\n\\n{content}'), score=0.0601851288273527), NodeWithScore(node=TextNode(id_='9d43a69e-d437-446c-ad97-69b2df6477de', embedding=None, metadata={'file_path': 'c:\\\\GITHUB\\\\IC HACK\\\\IC-Hack-Project\\\\rag\\\\rag_template_main\\\\wikipedia_cs\\\\data\\\\example.txt.txt', 'file_name': 'example.txt.txt', 'file_type': 'text/plain', 'file_size': 673848, 'creation_date': '2025-02-02', 'last_modified_date': '2025-02-02'}, excluded_embed_metadata_keys=['file_name', 'file_type', 'file_size', 'creation_date', 'last_modified_date', 'last_accessed_date'], excluded_llm_metadata_keys=['file_name', 'file_type', 'file_size', 'creation_date', 'last_modified_date', 'last_accessed_date'], relationships={<NodeRelationship.SOURCE: '1'>: RelatedNodeInfo(node_id='c753368f-6bdf-4310-863d-b45fb30f30a5', node_type='4', metadata={'file_path': 'c:\\\\GITHUB\\\\IC HACK\\\\IC-Hack-Project\\\\rag\\\\rag_template_main\\\\wikipedia_cs\\\\data\\\\example.txt.txt', 'file_name': 'example.txt.txt', 'file_type': 'text/plain', 'file_size': 673848, 'creation_date': '2025-02-02', 'last_modified_date': '2025-02-02'}, hash='11add01adf9f51db2c03e4162ae3239baf772ba2a09cdeca5bb93f4e3d072d29'), <NodeRelationship.PREVIOUS: '2'>: RelatedNodeInfo(node_id='430ce34b-dff8-449b-b66d-a1f26cc71e64', node_type='1', metadata={'file_path': 'c:\\\\GITHUB\\\\IC HACK\\\\IC-Hack-Project\\\\rag\\\\rag_template_main\\\\wikipedia_cs\\\\data\\\\example.txt.txt', 'file_name': 'example.txt.txt', 'file_type': 'text/plain', 'file_size': 673848, 'creation_date': '2025-02-02', 'last_modified_date': '2025-02-02'}, hash='4b157bacee8f19e99e7fa5d8c8f0143e995096e3bdcd170154eb7401224d86ca'), <NodeRelationship.NEXT: '3'>: RelatedNodeInfo(node_id='224fc471-e278-4650-9779-8a4ae6a460a9', node_type='1', metadata={}, hash='ef4a35caeb62d05361200a35dc5e3fb87ee764abfb3ea1fa5c93fb79e6e8ed3a')}, metadata_template='{key}: {value}', metadata_separator='\\n', text='Despite suggestions that the pair did not always get the most from the package, Räikkönen took the title in 2007 at the final race by a single point over Lewis Hamilton and Fernando Alonso. After the disappointing results in the 2008 season, Ferrari announced that Dyer would be replaced by Andrea Stella for the 2009 season, with Dyer promoted to chief track engineer.\\r\\nOn 4 January 2011, Ferrari announced that Dyer was replaced as head of race track engineering by former McLaren engineer Pat Fry. This decision was taken after Dyer made the call to bring Alonso in the pit lane to cover off the Australian Mark Webber\\'s pit stop in the final race of the season, the 2010 Abu Dhabi Grand Prix. The decision was blamed for costing Alonso the title in favour of Sebastian Vettel who went on to become champion. In October 2012, it was announced that Dyer was to join BMW\\'s Deutsche Tourenwagen Masters (DTM) programme as chief engineer.\\r\\n\\r\\nRenault\\r\\nOn 4 February 2016, it was announced by Renault Sport that Dyer would be returning to Formula One as their head of vehicle performance group.\\r\\n\\r\\nCareer\\r\\n1997: Arrows data engineer\\r\\n1998–2000: Arrows race engineer\\r\\n2001–2002: Scuderia Ferrari vehicle engineer\\r\\n2003–2006: Scuderia Ferrari race engineer, Michael Schumacher\\r\\n2007–2008: Scuderia Ferrari race engineer, Kimi Räikkönen\\r\\n2009–2011: Scuderia Ferrari chief track engineer\\r\\n2011–2012: Scuderia Ferrari team member\\r\\n2012–2015: BMW DTM chief engineer\\r\\n2016–2020: Renault Sport F1 Team, head of vehicle performance group\\r\\n\\r\\n\\r\\n== References ==\\r\\n\\r\\nTitle: Glenn McDonald (data engineer)\\r\\nGlenn McDonald is a former employee of Spotify who was responsible for grouping and naming genres at the company. Often described by media as a \"data alchemist\", he created the music discovery website Every Noise at Once, and is in part responsible for the naming of the hyperpop musical movement.\\r\\n\\r\\nBiography\\r\\nMcDonald worked for a time at the music intelligence firm The Echo Nest. This company was acquired by Spotify in 2013, and the genre mapping data created by McDonald was built into various Spotify features, including its \"Daily Mix\" and \"Fans also like\" recommendation functions. He created the Every Noise at Once website that year. Under Spotify, he continued to work as part of a team to categorize tracks from about one million artists into 6,291 named genres, including 56 kinds of reggae, 202 kinds of folk and 230 kinds of hip hop. He developed an algorithm for the company which evaluated music based on what he called \"subjective psychoacoustic attributes\", including \"tempo,\" \"duration,\" \"color,\" \"modernity,\" and \"femininity.\" He then named what he called \"emerging genres\" himself, including the Spotify genre Escape Room, so named because of its sonic connection to trap music. In 2018, McDonald input the genre name \"hyperpop\" into this metadata, which was later used to name Spotify\\'s hyperpop playlist and thus the musical movement itself.\\r\\nOn December 4, 2023, McDonald was one of the 1,500 employees, or 17% of its workforce, laid off by Spotify. As a result, he lost access to the data needed to maintain and update his website\\'s database, as well as the ability to fix any errors caused by possible changes on Spotify\\'s end. A spokesperson for Spotify stated that the current status of Every Noise was likely to remain for the foreseeable future.\\r\\nIn 2024, McDonald\\'s book You Have Not Yet Heard Your Favourite Song, about the increasing reliance of the music industry upon streaming, was published. In the book, he describes Spotify as \"surveillance capitalism\" that makes use of name, age, gender, location and existing tastes, but is limited in its knowledge. Upon the release of the 2024 edition of Spotify Wrapped, he criticised its rollout, stating that \"the goal of Wrapped, in particular, is brand virality,\" and that \"there’s not much in the way this year of data storytelling.\"\\r\\n\\r\\n\\r\\n== References ==\\r\\n\\r\\nTitle: Luigi Mangione\\r\\nLuigi Nicholas Mangione (  loo-EE-jee MAN-jee-OH-nee; born May 6, 1998) is an American man who was identified as the suspect in the killing of Brian Thompson, the CEO of UnitedHealthcare, which took place on December 4, 2024, in New York City.', mimetype='text/plain', start_char_idx=646236, end_char_idx=650437, metadata_seperator='\\n', text_template='{metadata_str}\\n\\n{content}'), score=0.05901005044755582)], metadata={'58564d07-f7d7-47fc-a662-90571ce0f31e': {'file_path': 'c:\\\\GITHUB\\\\IC HACK\\\\IC-Hack-Project\\\\rag\\\\rag_template_main\\\\wikipedia_cs\\\\data\\\\example.txt.txt', 'file_name': 'example.txt.txt', 'file_type': 'text/plain', 'file_size': 673848, 'creation_date': '2025-02-02', 'last_modified_date': '2025-02-02'}, '9d43a69e-d437-446c-ad97-69b2df6477de': {'file_path': 'c:\\\\GITHUB\\\\IC HACK\\\\IC-Hack-Project\\\\rag\\\\rag_template_main\\\\wikipedia_cs\\\\data\\\\example.txt.txt', 'file_name': 'example.txt.txt', 'file_type': 'text/plain', 'file_size': 673848, 'creation_date': '2025-02-02', 'last_modified_date': '2025-02-02'}})"
      ]
     },
     "execution_count": 4,
     "metadata": {},
     "output_type": "execute_result"
    }
   ],
   "source": [
    "new_index =llama.initialize_index(False, main_folder=\"rag/wikipedia_cs/\")\n",
    "llama.query_index(new_index, \"What is data science?\")"
   ]
  },
  {
   "cell_type": "code",
   "execution_count": 6,
   "metadata": {},
   "outputs": [],
   "source": [
    "third_index =llama.initialize_index(main_folder=\"rag/individual_history\")"
   ]
  },
  {
   "cell_type": "code",
   "execution_count": 7,
   "metadata": {},
   "outputs": [
    {
     "data": {
      "text/plain": [
       "Response(response='The user does not understand horses, why people die, the stock market, what fishes are, how to open a jar, and why the sun goes down.', source_nodes=[NodeWithScore(node=TextNode(id_='0312a8f8-e0c6-4566-82dc-9c8da78b0a87', embedding=None, metadata={'file_path': 'c:\\\\GITHUB\\\\IC HACK\\\\IC-Hack-Project\\\\rag\\\\rag_template_main\\\\individual_history\\\\data\\\\all_information.txt', 'file_name': 'all_information.txt', 'file_type': 'text/plain', 'file_size': 278, 'creation_date': '2025-02-02', 'last_modified_date': '2025-02-02'}, excluded_embed_metadata_keys=['file_name', 'file_type', 'file_size', 'creation_date', 'last_modified_date', 'last_accessed_date'], excluded_llm_metadata_keys=['file_name', 'file_type', 'file_size', 'creation_date', 'last_modified_date', 'last_accessed_date'], relationships={<NodeRelationship.SOURCE: '1'>: RelatedNodeInfo(node_id='9be69dc3-672e-4537-9931-47f71c1c3abf', node_type='4', metadata={'file_path': 'c:\\\\GITHUB\\\\IC HACK\\\\IC-Hack-Project\\\\rag\\\\rag_template_main\\\\individual_history\\\\data\\\\all_information.txt', 'file_name': 'all_information.txt', 'file_type': 'text/plain', 'file_size': 278, 'creation_date': '2025-02-02', 'last_modified_date': '2025-02-02'}, hash='4d7f3b20ee9495061fb81b5b234a2c4fc8569a84ac40219b8eadc49cd04616c7')}, metadata_template='{key}: {value}', metadata_separator='\\n', text=\"Information 1: I don;t know what are horses\\r\\nInformation 2: Don't understand why people die\\r\\nInformation 3: stock market is incomprehensible\\r\\nInformation 4: I'm not sure what fishes are\\r\\nInformation 5: How do you open a jar?\\r\\nI'm also quite confused about why the sun goes down.\", mimetype='text/plain', start_char_idx=0, end_char_idx=278, metadata_seperator='\\n', text_template='{metadata_str}\\n\\n{content}'), score=-0.005932781673829929)], metadata={'0312a8f8-e0c6-4566-82dc-9c8da78b0a87': {'file_path': 'c:\\\\GITHUB\\\\IC HACK\\\\IC-Hack-Project\\\\rag\\\\rag_template_main\\\\individual_history\\\\data\\\\all_information.txt', 'file_name': 'all_information.txt', 'file_type': 'text/plain', 'file_size': 278, 'creation_date': '2025-02-02', 'last_modified_date': '2025-02-02'}})"
      ]
     },
     "execution_count": 7,
     "metadata": {},
     "output_type": "execute_result"
    }
   ],
   "source": [
    "llama.query_index(third_index, \"What does the user not understand?\")"
   ]
  },
  {
   "cell_type": "code",
   "execution_count": 9,
   "metadata": {},
   "outputs": [
    {
     "data": {
      "text/plain": [
       "Response(response='*** The user does not express any understanding of what wind is in the provided information.', source_nodes=[NodeWithScore(node=TextNode(id_='0312a8f8-e0c6-4566-82dc-9c8da78b0a87', embedding=None, metadata={'file_path': 'c:\\\\GITHUB\\\\IC HACK\\\\IC-Hack-Project\\\\rag\\\\rag_template_main\\\\individual_history\\\\data\\\\all_information.txt', 'file_name': 'all_information.txt', 'file_type': 'text/plain', 'file_size': 278, 'creation_date': '2025-02-02', 'last_modified_date': '2025-02-02'}, excluded_embed_metadata_keys=['file_name', 'file_type', 'file_size', 'creation_date', 'last_modified_date', 'last_accessed_date'], excluded_llm_metadata_keys=['file_name', 'file_type', 'file_size', 'creation_date', 'last_modified_date', 'last_accessed_date'], relationships={<NodeRelationship.SOURCE: '1'>: RelatedNodeInfo(node_id='9be69dc3-672e-4537-9931-47f71c1c3abf', node_type='4', metadata={'file_path': 'c:\\\\GITHUB\\\\IC HACK\\\\IC-Hack-Project\\\\rag\\\\rag_template_main\\\\individual_history\\\\data\\\\all_information.txt', 'file_name': 'all_information.txt', 'file_type': 'text/plain', 'file_size': 278, 'creation_date': '2025-02-02', 'last_modified_date': '2025-02-02'}, hash='4d7f3b20ee9495061fb81b5b234a2c4fc8569a84ac40219b8eadc49cd04616c7')}, metadata_template='{key}: {value}', metadata_separator='\\n', text=\"Information 1: I don;t know what are horses\\r\\nInformation 2: Don't understand why people die\\r\\nInformation 3: stock market is incomprehensible\\r\\nInformation 4: I'm not sure what fishes are\\r\\nInformation 5: How do you open a jar?\\r\\nI'm also quite confused about why the sun goes down.\", mimetype='text/plain', start_char_idx=0, end_char_idx=278, metadata_seperator='\\n', text_template='{metadata_str}\\n\\n{content}'), score=-0.03237901582713401)], metadata={'0312a8f8-e0c6-4566-82dc-9c8da78b0a87': {'file_path': 'c:\\\\GITHUB\\\\IC HACK\\\\IC-Hack-Project\\\\rag\\\\rag_template_main\\\\individual_history\\\\data\\\\all_information.txt', 'file_name': 'all_information.txt', 'file_type': 'text/plain', 'file_size': 278, 'creation_date': '2025-02-02', 'last_modified_date': '2025-02-02'}})"
      ]
     },
     "execution_count": 9,
     "metadata": {},
     "output_type": "execute_result"
    }
   ],
   "source": [
    "llama.query_index(third_index, \"Does user understand what wind is? IF not start the answer with ***\")"
   ]
  },
  {
   "cell_type": "code",
   "execution_count": 11,
   "metadata": {},
   "outputs": [],
   "source": []
  },
  {
   "cell_type": "code",
   "execution_count": 10,
   "metadata": {},
   "outputs": [
    {
     "ename": "ValueError",
     "evalue": "Storage directory rag_template_main/example\\storage does not exist",
     "output_type": "error",
     "traceback": [
      "\u001b[1;31m---------------------------------------------------------------------------\u001b[0m",
      "\u001b[1;31mValueError\u001b[0m                                Traceback (most recent call last)",
      "Cell \u001b[1;32mIn[10], line 4\u001b[0m\n\u001b[0;32m      1\u001b[0m file_path \u001b[38;5;241m=\u001b[39m \u001b[38;5;124m\"\u001b[39m\u001b[38;5;124mrag/individual_history/data/deadly_fears.txt\u001b[39m\u001b[38;5;124m\"\u001b[39m\n\u001b[0;32m      3\u001b[0m \u001b[38;5;66;03m# Add the file to the index\u001b[39;00m\n\u001b[1;32m----> 4\u001b[0m \u001b[43mllama\u001b[49m\u001b[38;5;241;43m.\u001b[39;49m\u001b[43madd_to_index\u001b[49m\u001b[43m(\u001b[49m\u001b[43mthird_index\u001b[49m\u001b[43m,\u001b[49m\u001b[43m \u001b[49m\u001b[43mfile_path\u001b[49m\u001b[43m)\u001b[49m\n\u001b[0;32m      6\u001b[0m \u001b[38;5;66;03m# Verify the file is added by querying the index\u001b[39;00m\n\u001b[0;32m      7\u001b[0m response \u001b[38;5;241m=\u001b[39m llama\u001b[38;5;241m.\u001b[39mquery_index(third_index, \u001b[38;5;124m\"\u001b[39m\u001b[38;5;124mWhat is deadly fears?\u001b[39m\u001b[38;5;124m\"\u001b[39m)\n",
      "File \u001b[1;32mc:\\GITHUB\\IC HACK\\IC-Hack-Project\\rag\\src\\llama_index_template.py:39\u001b[0m, in \u001b[0;36madd_to_index\u001b[1;34m(index, new_documents, main_folder)\u001b[0m\n\u001b[0;32m     37\u001b[0m PERSIST_DIR \u001b[38;5;241m=\u001b[39m os\u001b[38;5;241m.\u001b[39mpath\u001b[38;5;241m.\u001b[39mjoin(main_folder, \u001b[38;5;124m\"\u001b[39m\u001b[38;5;124mstorage\u001b[39m\u001b[38;5;124m\"\u001b[39m)\n\u001b[0;32m     38\u001b[0m \u001b[38;5;28;01mif\u001b[39;00m \u001b[38;5;129;01mnot\u001b[39;00m os\u001b[38;5;241m.\u001b[39mpath\u001b[38;5;241m.\u001b[39mexists(PERSIST_DIR):\n\u001b[1;32m---> 39\u001b[0m     \u001b[38;5;28;01mraise\u001b[39;00m \u001b[38;5;167;01mValueError\u001b[39;00m(\u001b[38;5;124mf\u001b[39m\u001b[38;5;124m\"\u001b[39m\u001b[38;5;124mStorage directory \u001b[39m\u001b[38;5;132;01m{\u001b[39;00mPERSIST_DIR\u001b[38;5;132;01m}\u001b[39;00m\u001b[38;5;124m does not exist\u001b[39m\u001b[38;5;124m\"\u001b[39m)\n\u001b[0;32m     41\u001b[0m \u001b[38;5;66;03m# Ensure new_documents is a list of document objects\u001b[39;00m\n\u001b[0;32m     42\u001b[0m \u001b[38;5;28;01mif\u001b[39;00m \u001b[38;5;28misinstance\u001b[39m(new_documents, \u001b[38;5;28mstr\u001b[39m):\n",
      "\u001b[1;31mValueError\u001b[0m: Storage directory rag_template_main/example\\storage does not exist"
     ]
    }
   ],
   "source": [
    "file_path = \"rag/individual_history/data/deadly_fears.txt\"\n",
    "\n",
    "# Add the file to the index\n",
    "llama.add_to_index(third_index, file_path)\n",
    "\n",
    "# Verify the file is added by querying the index\n",
    "response = llama.query_index(third_index, \"What is deadly fears?\")\n",
    "print(response)"
   ]
  },
  {
   "cell_type": "code",
   "execution_count": null,
   "metadata": {},
   "outputs": [
    {
     "data": {
      "text/plain": [
       "'My name is Thomas. How can I assist you today?'"
      ]
     },
     "execution_count": 5,
     "metadata": {},
     "output_type": "execute_result"
    }
   ],
   "source": [
    "#from dotenv import load_dotenv\n",
    "from openai import OpenAI\n",
    "import os\n",
    "\n",
    "# Load environment variables from .env file\n",
    "\n",
    "# Securely load the API key from environment variables\n",
    "client = OpenAI(\n",
    "    api_key=os.getenv(\"OPENAI_KEY\"),  # This is the default and can be omitted\n",
    ")\n",
    "\n",
    "def askGPT(systemPrompt, userPrompt):\n",
    "    try:\n",
    "        response = client.chat.completions.create(\n",
    "            model=\"gpt-4o-mini\",  # Use GPT-4 if available: \"gpt-4\"\n",
    "            messages=[\n",
    "                {\"role\": \"system\", \"content\": systemPrompt},\n",
    "                {\"role\": \"user\", \"content\": userPrompt}\n",
    "            ],\n",
    "            # max_tokens=150,\n",
    "            temperature=0.7  # Controls creativity\n",
    "        )\n",
    "\n",
    "        response = response.choices[0].message.content.strip()\n",
    "\n",
    "        return response\n",
    "\n",
    "    except Exception as e:\n",
    "        print(\"ERROR: \", e)\n",
    "        return None\n",
    "    \n",
    "askGPT(\"asnwer as thomas\", \"What is your name?\")"
   ]
  }
 ],
 "metadata": {
  "kernelspec": {
   "display_name": "Python 3",
   "language": "python",
   "name": "python3"
  },
  "language_info": {
   "codemirror_mode": {
    "name": "ipython",
    "version": 3
   },
   "file_extension": ".py",
   "mimetype": "text/x-python",
   "name": "python",
   "nbconvert_exporter": "python",
   "pygments_lexer": "ipython3",
   "version": "3.11.0"
  }
 },
 "nbformat": 4,
 "nbformat_minor": 2
}
