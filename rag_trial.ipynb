{
 "cells": [
  {
   "cell_type": "markdown",
   "metadata": {},
   "source": [
    "Base model from\n",
    "\n",
    "https://github.com/anchouls/rag-template\n",
    "\n",
    "Run terminal commands\n",
    "\n",
    "\n",
    "\n",
    "pip install -r rag\\rag-template-main\\requirements.txt\n",
    "\n",
    "\n",
    "cd rag\\rag-template-main\n",
    "uvicorn src.app:app --reload\n",
    "\n",
    "\n",
    "ADD OPENAI_KEY to .env"
   ]
  },
  {
   "cell_type": "markdown",
   "metadata": {},
   "source": [
    "YOu can download wheel from:\n",
    "https://pypi.org/project/wheel/#files"
   ]
  },
  {
   "cell_type": "markdown",
   "metadata": {},
   "source": [
    "# Accessing Fast API"
   ]
  },
  {
   "cell_type": "markdown",
   "metadata": {},
   "source": []
  },
  {
   "cell_type": "code",
   "execution_count": 2,
   "metadata": {},
   "outputs": [],
   "source": [
    "import os\n",
    "import openai\n",
    "OPENAI_API_KEY = os.getenv(\"OPENAI_KEY\")\n",
    "\n",
    "\n",
    "openai.api_key = OPENAI_API_KEY\n",
    "\n",
    "import rag.src.llama_index_template as llama"
   ]
  },
  {
   "cell_type": "markdown",
   "metadata": {},
   "source": [
    "Use one of the two databases"
   ]
  },
  {
   "cell_type": "code",
   "execution_count": 3,
   "metadata": {},
   "outputs": [
    {
     "ename": "AttributeError",
     "evalue": "module 'rag.src.llama_index_template' has no attribute 'initialize_index'",
     "output_type": "error",
     "traceback": [
      "\u001b[1;31m---------------------------------------------------------------------------\u001b[0m",
      "\u001b[1;31mAttributeError\u001b[0m                            Traceback (most recent call last)",
      "Cell \u001b[1;32mIn[3], line 1\u001b[0m\n\u001b[1;32m----> 1\u001b[0m new_index \u001b[38;5;241m=\u001b[39m\u001b[43mllama\u001b[49m\u001b[38;5;241;43m.\u001b[39;49m\u001b[43minitialize_index\u001b[49m(\u001b[38;5;28;01mFalse\u001b[39;00m, main_folder\u001b[38;5;241m=\u001b[39m\u001b[38;5;124m\"\u001b[39m\u001b[38;5;124mrag/wikipedia_cs/\u001b[39m\u001b[38;5;124m\"\u001b[39m)\n\u001b[0;32m      2\u001b[0m llama\u001b[38;5;241m.\u001b[39mquery_index(new_index, \u001b[38;5;124m\"\u001b[39m\u001b[38;5;124mWhat is data science?\u001b[39m\u001b[38;5;124m\"\u001b[39m)\n",
      "\u001b[1;31mAttributeError\u001b[0m: module 'rag.src.llama_index_template' has no attribute 'initialize_index'"
     ]
    }
   ],
   "source": [
    "new_index =llama.initialize_index(False, main_folder=\"rag/wikipedia_cs/\")\n",
    "llama.query_index(new_index, \"What is data science?\")"
   ]
  },
  {
   "cell_type": "code",
   "execution_count": 6,
   "metadata": {},
   "outputs": [],
   "source": [
    "third_index =llama.initialize_index(main_folder=\"rag/individual_history\")"
   ]
  },
  {
   "cell_type": "code",
   "execution_count": 7,
   "metadata": {},
   "outputs": [
    {
     "data": {
      "text/plain": [
       "Response(response='The user does not understand horses, why people die, the stock market, what fishes are, how to open a jar, and why the sun goes down.', source_nodes=[NodeWithScore(node=TextNode(id_='0312a8f8-e0c6-4566-82dc-9c8da78b0a87', embedding=None, metadata={'file_path': 'c:\\\\GITHUB\\\\IC HACK\\\\IC-Hack-Project\\\\rag\\\\rag_template_main\\\\individual_history\\\\data\\\\all_information.txt', 'file_name': 'all_information.txt', 'file_type': 'text/plain', 'file_size': 278, 'creation_date': '2025-02-02', 'last_modified_date': '2025-02-02'}, excluded_embed_metadata_keys=['file_name', 'file_type', 'file_size', 'creation_date', 'last_modified_date', 'last_accessed_date'], excluded_llm_metadata_keys=['file_name', 'file_type', 'file_size', 'creation_date', 'last_modified_date', 'last_accessed_date'], relationships={<NodeRelationship.SOURCE: '1'>: RelatedNodeInfo(node_id='9be69dc3-672e-4537-9931-47f71c1c3abf', node_type='4', metadata={'file_path': 'c:\\\\GITHUB\\\\IC HACK\\\\IC-Hack-Project\\\\rag\\\\rag_template_main\\\\individual_history\\\\data\\\\all_information.txt', 'file_name': 'all_information.txt', 'file_type': 'text/plain', 'file_size': 278, 'creation_date': '2025-02-02', 'last_modified_date': '2025-02-02'}, hash='4d7f3b20ee9495061fb81b5b234a2c4fc8569a84ac40219b8eadc49cd04616c7')}, metadata_template='{key}: {value}', metadata_separator='\\n', text=\"Information 1: I don;t know what are horses\\r\\nInformation 2: Don't understand why people die\\r\\nInformation 3: stock market is incomprehensible\\r\\nInformation 4: I'm not sure what fishes are\\r\\nInformation 5: How do you open a jar?\\r\\nI'm also quite confused about why the sun goes down.\", mimetype='text/plain', start_char_idx=0, end_char_idx=278, metadata_seperator='\\n', text_template='{metadata_str}\\n\\n{content}'), score=-0.005932781673829929)], metadata={'0312a8f8-e0c6-4566-82dc-9c8da78b0a87': {'file_path': 'c:\\\\GITHUB\\\\IC HACK\\\\IC-Hack-Project\\\\rag\\\\rag_template_main\\\\individual_history\\\\data\\\\all_information.txt', 'file_name': 'all_information.txt', 'file_type': 'text/plain', 'file_size': 278, 'creation_date': '2025-02-02', 'last_modified_date': '2025-02-02'}})"
      ]
     },
     "execution_count": 7,
     "metadata": {},
     "output_type": "execute_result"
    }
   ],
   "source": [
    "llama.query_index(third_index, \"What does the user not understand?\")"
   ]
  },
  {
   "cell_type": "code",
   "execution_count": 9,
   "metadata": {},
   "outputs": [
    {
     "data": {
      "text/plain": [
       "Response(response='*** The user does not express any understanding of what wind is in the provided information.', source_nodes=[NodeWithScore(node=TextNode(id_='0312a8f8-e0c6-4566-82dc-9c8da78b0a87', embedding=None, metadata={'file_path': 'c:\\\\GITHUB\\\\IC HACK\\\\IC-Hack-Project\\\\rag\\\\rag_template_main\\\\individual_history\\\\data\\\\all_information.txt', 'file_name': 'all_information.txt', 'file_type': 'text/plain', 'file_size': 278, 'creation_date': '2025-02-02', 'last_modified_date': '2025-02-02'}, excluded_embed_metadata_keys=['file_name', 'file_type', 'file_size', 'creation_date', 'last_modified_date', 'last_accessed_date'], excluded_llm_metadata_keys=['file_name', 'file_type', 'file_size', 'creation_date', 'last_modified_date', 'last_accessed_date'], relationships={<NodeRelationship.SOURCE: '1'>: RelatedNodeInfo(node_id='9be69dc3-672e-4537-9931-47f71c1c3abf', node_type='4', metadata={'file_path': 'c:\\\\GITHUB\\\\IC HACK\\\\IC-Hack-Project\\\\rag\\\\rag_template_main\\\\individual_history\\\\data\\\\all_information.txt', 'file_name': 'all_information.txt', 'file_type': 'text/plain', 'file_size': 278, 'creation_date': '2025-02-02', 'last_modified_date': '2025-02-02'}, hash='4d7f3b20ee9495061fb81b5b234a2c4fc8569a84ac40219b8eadc49cd04616c7')}, metadata_template='{key}: {value}', metadata_separator='\\n', text=\"Information 1: I don;t know what are horses\\r\\nInformation 2: Don't understand why people die\\r\\nInformation 3: stock market is incomprehensible\\r\\nInformation 4: I'm not sure what fishes are\\r\\nInformation 5: How do you open a jar?\\r\\nI'm also quite confused about why the sun goes down.\", mimetype='text/plain', start_char_idx=0, end_char_idx=278, metadata_seperator='\\n', text_template='{metadata_str}\\n\\n{content}'), score=-0.03237901582713401)], metadata={'0312a8f8-e0c6-4566-82dc-9c8da78b0a87': {'file_path': 'c:\\\\GITHUB\\\\IC HACK\\\\IC-Hack-Project\\\\rag\\\\rag_template_main\\\\individual_history\\\\data\\\\all_information.txt', 'file_name': 'all_information.txt', 'file_type': 'text/plain', 'file_size': 278, 'creation_date': '2025-02-02', 'last_modified_date': '2025-02-02'}})"
      ]
     },
     "execution_count": 9,
     "metadata": {},
     "output_type": "execute_result"
    }
   ],
   "source": [
    "llama.query_index(third_index, \"Does user understand what wind is? IF not start the answer with ***\")"
   ]
  },
  {
   "cell_type": "code",
   "execution_count": 11,
   "metadata": {},
   "outputs": [],
   "source": []
  },
  {
   "cell_type": "code",
   "execution_count": 10,
   "metadata": {},
   "outputs": [
    {
     "ename": "ValueError",
     "evalue": "Storage directory rag_template_main/example\\storage does not exist",
     "output_type": "error",
     "traceback": [
      "\u001b[1;31m---------------------------------------------------------------------------\u001b[0m",
      "\u001b[1;31mValueError\u001b[0m                                Traceback (most recent call last)",
      "Cell \u001b[1;32mIn[10], line 4\u001b[0m\n\u001b[0;32m      1\u001b[0m file_path \u001b[38;5;241m=\u001b[39m \u001b[38;5;124m\"\u001b[39m\u001b[38;5;124mrag/individual_history/data/deadly_fears.txt\u001b[39m\u001b[38;5;124m\"\u001b[39m\n\u001b[0;32m      3\u001b[0m \u001b[38;5;66;03m# Add the file to the index\u001b[39;00m\n\u001b[1;32m----> 4\u001b[0m \u001b[43mllama\u001b[49m\u001b[38;5;241;43m.\u001b[39;49m\u001b[43madd_to_index\u001b[49m\u001b[43m(\u001b[49m\u001b[43mthird_index\u001b[49m\u001b[43m,\u001b[49m\u001b[43m \u001b[49m\u001b[43mfile_path\u001b[49m\u001b[43m)\u001b[49m\n\u001b[0;32m      6\u001b[0m \u001b[38;5;66;03m# Verify the file is added by querying the index\u001b[39;00m\n\u001b[0;32m      7\u001b[0m response \u001b[38;5;241m=\u001b[39m llama\u001b[38;5;241m.\u001b[39mquery_index(third_index, \u001b[38;5;124m\"\u001b[39m\u001b[38;5;124mWhat is deadly fears?\u001b[39m\u001b[38;5;124m\"\u001b[39m)\n",
      "File \u001b[1;32mc:\\GITHUB\\IC HACK\\IC-Hack-Project\\rag\\src\\llama_index_template.py:39\u001b[0m, in \u001b[0;36madd_to_index\u001b[1;34m(index, new_documents, main_folder)\u001b[0m\n\u001b[0;32m     37\u001b[0m PERSIST_DIR \u001b[38;5;241m=\u001b[39m os\u001b[38;5;241m.\u001b[39mpath\u001b[38;5;241m.\u001b[39mjoin(main_folder, \u001b[38;5;124m\"\u001b[39m\u001b[38;5;124mstorage\u001b[39m\u001b[38;5;124m\"\u001b[39m)\n\u001b[0;32m     38\u001b[0m \u001b[38;5;28;01mif\u001b[39;00m \u001b[38;5;129;01mnot\u001b[39;00m os\u001b[38;5;241m.\u001b[39mpath\u001b[38;5;241m.\u001b[39mexists(PERSIST_DIR):\n\u001b[1;32m---> 39\u001b[0m     \u001b[38;5;28;01mraise\u001b[39;00m \u001b[38;5;167;01mValueError\u001b[39;00m(\u001b[38;5;124mf\u001b[39m\u001b[38;5;124m\"\u001b[39m\u001b[38;5;124mStorage directory \u001b[39m\u001b[38;5;132;01m{\u001b[39;00mPERSIST_DIR\u001b[38;5;132;01m}\u001b[39;00m\u001b[38;5;124m does not exist\u001b[39m\u001b[38;5;124m\"\u001b[39m)\n\u001b[0;32m     41\u001b[0m \u001b[38;5;66;03m# Ensure new_documents is a list of document objects\u001b[39;00m\n\u001b[0;32m     42\u001b[0m \u001b[38;5;28;01mif\u001b[39;00m \u001b[38;5;28misinstance\u001b[39m(new_documents, \u001b[38;5;28mstr\u001b[39m):\n",
      "\u001b[1;31mValueError\u001b[0m: Storage directory rag_template_main/example\\storage does not exist"
     ]
    }
   ],
   "source": [
    "file_path = \"rag/individual_history/data/deadly_fears.txt\"\n",
    "\n",
    "# Add the file to the index\n",
    "llama.add_to_index(third_index, file_path)\n",
    "\n",
    "# Verify the file is added by querying the index\n",
    "response = llama.query_index(third_index, \"What is deadly fears?\")\n",
    "print(response)"
   ]
  },
  {
   "cell_type": "code",
   "execution_count": null,
   "metadata": {},
   "outputs": [
    {
     "data": {
      "text/plain": [
       "'My name is Thomas. How can I assist you today?'"
      ]
     },
     "execution_count": 5,
     "metadata": {},
     "output_type": "execute_result"
    }
   ],
   "source": [
    "#from dotenv import load_dotenv\n",
    "from openai import OpenAI\n",
    "import os\n",
    "\n",
    "# Load environment variables from .env file\n",
    "\n",
    "# Securely load the API key from environment variables\n",
    "client = OpenAI(\n",
    "    api_key=os.getenv(\"OPENAI_KEY\"),  # This is the default and can be omitted\n",
    ")\n",
    "\n",
    "def askGPT(systemPrompt, userPrompt):\n",
    "    try:\n",
    "        response = client.chat.completions.create(\n",
    "            model=\"gpt-4o-mini\",  # Use GPT-4 if available: \"gpt-4\"\n",
    "            messages=[\n",
    "                {\"role\": \"system\", \"content\": systemPrompt},\n",
    "                {\"role\": \"user\", \"content\": userPrompt}\n",
    "            ],\n",
    "            # max_tokens=150,\n",
    "            temperature=0.7  # Controls creativity\n",
    "        )\n",
    "\n",
    "        response = response.choices[0].message.content.strip()\n",
    "\n",
    "        return response\n",
    "\n",
    "    except Exception as e:\n",
    "        print(\"ERROR: \", e)\n",
    "        return None\n",
    "    \n",
    "askGPT(\"asnwer as thomas\", \"What is your name?\")"
   ]
  }
 ],
 "metadata": {
  "kernelspec": {
   "display_name": "Python 3",
   "language": "python",
   "name": "python3"
  },
  "language_info": {
   "codemirror_mode": {
    "name": "ipython",
    "version": 3
   },
   "file_extension": ".py",
   "mimetype": "text/x-python",
   "name": "python",
   "nbconvert_exporter": "python",
   "pygments_lexer": "ipython3",
   "version": "3.11.0"
  }
 },
 "nbformat": 4,
 "nbformat_minor": 2
}
